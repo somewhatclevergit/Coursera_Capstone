{
 "cells": [
  {
   "cell_type": "markdown",
   "metadata": {},
   "source": [
    "##  The Battle of Neighborhoods"
   ]
  },
  {
   "cell_type": "markdown",
   "metadata": {},
   "source": [
    "### Introduction/Business Problem"
   ]
  },
  {
   "cell_type": "markdown",
   "metadata": {},
   "source": [
    "Someone would like to open a restaurant in New York City. This someone is not exactly sure where in New York City to set up shop, but they do know that they would like to open their restaurant in a place with as little competition from other food-selling businesses as possible, thinking that this will be better for their business. A restaurant located in a region already packed with other restaurants will go completely unnoticed. Therefore, the goal of this project is to take the neighborhoods of New York City, and determine which ones have the fewest food-serving venues so that the aforementioned restaurant may move in."
   ]
  }
 ],
 "metadata": {
  "kernelspec": {
   "display_name": "Python",
   "language": "python",
   "name": "conda-env-python-py"
  },
  "language_info": {
   "codemirror_mode": {
    "name": "ipython",
    "version": 3
   },
   "file_extension": ".py",
   "mimetype": "text/x-python",
   "name": "python",
   "nbconvert_exporter": "python",
   "pygments_lexer": "ipython3",
   "version": "3.6.11"
  }
 },
 "nbformat": 4,
 "nbformat_minor": 4
}
